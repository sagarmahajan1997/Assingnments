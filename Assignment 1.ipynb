{
 "cells": [
  {
   "cell_type": "code",
   "execution_count": null,
   "id": "862d5f32-6f8a-4473-84ac-54aeb1e3b930",
   "metadata": {},
   "outputs": [],
   "source": [
    "Q) 1 . Who developed python programing language ?\n",
    "Ans -- Guido van Rossum \n",
    "       Guido van Rossum began working on Python in the late 1980s \n",
    "    as a successor to the ABC programming language and first released it in 1991 as Python 0.9.0."
   ]
  },
  {
   "cell_type": "code",
   "execution_count": null,
   "id": "dc5a2a3d-1374-41d9-87ae-41f7d9c1bcfd",
   "metadata": {},
   "outputs": [],
   "source": [
    "Q) 2 .Which type of programing does python suport  ?\n",
    "Ans -- Object-oriented programming and structured programming"
   ]
  },
  {
   "cell_type": "code",
   "execution_count": null,
   "id": "f98d624f-3381-436f-b9ff-dd02acad12db",
   "metadata": {},
   "outputs": [],
   "source": [
    "Q) 3. Is python case sensitive when dealing with identifiers?\n",
    "Ans -- Yes, Python is a case-sensitive language,\n",
    "       i.e., it treats uppercase and lowercase characters differently"
   ]
  },
  {
   "cell_type": "code",
   "execution_count": null,
   "id": "ef1642cd-e171-4a1d-8750-0b9b8e2688c2",
   "metadata": {},
   "outputs": [],
   "source": [
    "Q) 4 . What is the correct extension for the Python file ?\n",
    "Ans -- extension for the Python file are (. py, . pyi, .)."
   ]
  },
  {
   "cell_type": "code",
   "execution_count": null,
   "id": "f266a9a9-d2e1-4b01-83b7-a21a1d338191",
   "metadata": {},
   "outputs": [],
   "source": [
    "Q) 5 . Is python code compliance or interpreted ?\n",
    "Ans --Python is an interpreted language, which means the source \n",
    "      code of a Python program is converted into bytecode that \n",
    "      is then executed by the Python virtual machine."
   ]
  },
  {
   "cell_type": "code",
   "execution_count": null,
   "id": "8f93705a-9e9c-4445-94f1-99bad0c785db",
   "metadata": {},
   "outputs": [],
   "source": [
    "Q) 6 .Name a few blocks of code used to define in Python language ?\n",
    "Ans -- A Python program is constructed from code blocks.\n",
    "       A block is a piece of Python program text that is executed as a unit. "
   ]
  },
  {
   "cell_type": "code",
   "execution_count": null,
   "id": "96b72e71-8177-433a-a8af-9c7a1e4d305b",
   "metadata": {},
   "outputs": [],
   "source": [
    "Q) 7 . state a character used to give single line comments in Python?\n",
    "Ans -- We can write a single-line comment by adding a \"#\" character before any statement or line of code."
   ]
  },
  {
   "cell_type": "code",
   "execution_count": null,
   "id": "0cfe0f3f-0a57-4cc9-ae17-7f569974b0b5",
   "metadata": {},
   "outputs": [],
   "source": [
    "Q) 8 . Mention function which can help us to find the version of python that we are currently working on ?\n",
    "Ans -- The function sys. version can help us to find the version of python that we are currently working on."
   ]
  },
  {
   "cell_type": "code",
   "execution_count": null,
   "id": "37363b33-f4e1-480a-9818-cabc179271dd",
   "metadata": {},
   "outputs": [],
   "source": [
    "Q) 9 . Python supports the creation of anonymous functions at runtime using a construct called ?\n",
    "Ans -- It uses a construct called \"lambda\" "
   ]
  },
  {
   "cell_type": "code",
   "execution_count": null,
   "id": "14d075e0-9878-4fb4-b228-918e612b75d7",
   "metadata": {},
   "outputs": [],
   "source": [
    "Q) 10 . What does PIP stand for python ?\n",
    " Ans --   \" preferred installer program  \""
   ]
  },
  {
   "cell_type": "code",
   "execution_count": null,
   "id": "e9c111d7-8068-45df-bb0f-3cecc9ec0710",
   "metadata": {},
   "outputs": [],
   "source": [
    "Q) 11 . Mention a few bute in function in Python ?\n",
    "Ans --  all ,bin,AssertionError,compile,exec,SystemExit ext\n",
    "      Press \" tab \" To see all function "
   ]
  },
  {
   "cell_type": "code",
   "execution_count": null,
   "id": "06941a83-21a5-42e4-a350-9f53b62757d4",
   "metadata": {},
   "outputs": [],
   "source": [
    "Q) 12 . What is the maximum possible length of an identifier in python ?\n",
    "Ans --   79 characters"
   ]
  },
  {
   "cell_type": "code",
   "execution_count": null,
   "id": "af28043c-fdbd-46e3-b0d3-cb470105d72a",
   "metadata": {},
   "outputs": [],
   "source": [
    "Q) 13 . What are the benefits of using python ?\n",
    "Ans - -Data science.\n",
    "       Scientific and mathematical computing.\n",
    "       Web development.\n",
    "       Finance and trading.\n",
    "       System automation and administration.\n",
    "       Computer graphics.\n",
    "       Basic game development.\n",
    "       Security and penetration testing.\n"
   ]
  },
  {
   "cell_type": "code",
   "execution_count": null,
   "id": "b954c045-ee3a-46f3-b0ae-70d2e7053e04",
   "metadata": {},
   "outputs": [],
   "source": [
    "Q) 14 .What is memory managed in python?\n",
    "Ans --Memory management in Python involves a private heap containing all Python objects and data structures. "
   ]
  },
  {
   "cell_type": "code",
   "execution_count": null,
   "id": "6b7455cc-d36d-4bbe-858a-a214bb06986a",
   "metadata": {},
   "outputs": [],
   "source": [
    "Q) 15 . How to install Python on Windows and set path variable? \n",
    "Ans -- Right-clicking This PC and going to Properties.\n",
    "\n",
    "       Clicking on the Advanced system settings in the menu on the left.\n",
    "\n",
    "       Clicking on the Environment Variables button o​n the bottom right.\n",
    "\n",
    "       In the System variables section, selecting the Path variable and clicking on Edit.\n",
    "       The next screen will show all the directories that are currently a part of the PATH variable.\n",
    "\n",
    "       Clicking on New and entering Python’s install directory."
   ]
  },
  {
   "cell_type": "code",
   "execution_count": null,
   "id": "ba15b844-ceef-4a96-a73b-78366043fab5",
   "metadata": {},
   "outputs": [],
   "source": [
    "Q) 16 . Is  indentation required in Python ?\n",
    "Ans -- Indentation is mandatory in python to define the blocks of statements."
   ]
  },
  {
   "cell_type": "code",
   "execution_count": null,
   "id": "895a1e60-5e4f-4b55-899f-18edfdec9df9",
   "metadata": {},
   "outputs": [],
   "source": []
  },
  {
   "cell_type": "code",
   "execution_count": null,
   "id": "8b1aa7eb-9b43-45be-ab9e-7c2bca8b8b0d",
   "metadata": {},
   "outputs": [],
   "source": []
  },
  {
   "cell_type": "code",
   "execution_count": null,
   "id": "67837461-c5f3-4d28-aa8d-146e6ef058f3",
   "metadata": {},
   "outputs": [],
   "source": []
  },
  {
   "cell_type": "code",
   "execution_count": null,
   "id": "01477091-2391-4f94-a88f-8323b78a8560",
   "metadata": {},
   "outputs": [],
   "source": []
  }
 ],
 "metadata": {
  "kernelspec": {
   "display_name": "Python 3 (ipykernel)",
   "language": "python",
   "name": "python3"
  },
  "language_info": {
   "codemirror_mode": {
    "name": "ipython",
    "version": 3
   },
   "file_extension": ".py",
   "mimetype": "text/x-python",
   "name": "python",
   "nbconvert_exporter": "python",
   "pygments_lexer": "ipython3",
   "version": "3.10.8"
  }
 },
 "nbformat": 4,
 "nbformat_minor": 5
}
